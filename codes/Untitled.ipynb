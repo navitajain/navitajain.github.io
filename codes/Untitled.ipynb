{
 "cells": [
  {
   "cell_type": "code",
   "execution_count": 1,
   "metadata": {},
   "outputs": [
    {
     "data": {
      "text/plain": [
       "0"
      ]
     },
     "execution_count": 1,
     "metadata": {},
     "output_type": "execute_result"
    }
   ],
   "source": [
    "ct = [0]\n",
    "max(ct)"
   ]
  },
  {
   "cell_type": "code",
   "execution_count": 1,
   "metadata": {},
   "outputs": [
    {
     "name": "stdout",
     "output_type": "stream",
     "text": [
      "3\n",
      "3\n"
     ]
    }
   ],
   "source": [
    "class Solution(object):\n",
    "    def lenLongestFibSubseq(self, A):\n",
    "        \"\"\"\n",
    "        :type A: List[int]\n",
    "        :rtype: int\n",
    "        \"\"\"\n",
    "        ls = []\n",
    "        ct = self.findSubseq(A,0,ls)\n",
    "        return max(ls)\n",
    "        \n",
    "        \n",
    "    def findSubseq(self,A,ct,ls):\n",
    "        if len(A) < 3:\n",
    "            ls.append(ct)\n",
    "            return 0\n",
    "        lptr = 0\n",
    "        rptr = 1\n",
    "        if A[lptr]+A[rptr] in A:\n",
    "            idx = A.index(A[lptr]+A[rptr])\n",
    "            ct+=2\n",
    "            if len(A[idx:]) < 3:\n",
    "                ct += 1\n",
    "            ct += self.findSubseq(A[idx:],ct,ls)\n",
    "        else:\n",
    "            if ct!= 0:    \n",
    "                ct += 1       #moving pointer to find next fibona.. and adding 1 for 3ele of fiba.\n",
    "                ct += self.findSubseq(A[rptr:],ct,ls) \n",
    "            else:\n",
    "                if rptr+1 == len(A):\n",
    "                    ct+=0\n",
    "                    ls.append(ct)\n",
    "                    return ct \n",
    "                ct += self.findSubseq([A[lptr]]+A[rptr+1:],ct,ls) \n",
    "            \n",
    "        return ct\n",
    "        \n",
    "a = Solution()\n",
    "print(a.lenLongestFibSubseq([3,4,5,6,7,8]))\n",
    "print(a.lenLongestFibSubseq([1,3,7,11,12,14,18]))"
   ]
  },
  {
   "cell_type": "code",
   "execution_count": null,
   "metadata": {},
   "outputs": [],
   "source": []
  },
  {
   "cell_type": "code",
   "execution_count": null,
   "metadata": {},
   "outputs": [],
   "source": []
  }
 ],
 "metadata": {
  "kernelspec": {
   "display_name": "Python 3",
   "language": "python",
   "name": "python3"
  },
  "language_info": {
   "codemirror_mode": {
    "name": "ipython",
    "version": 3
   },
   "file_extension": ".py",
   "mimetype": "text/x-python",
   "name": "python",
   "nbconvert_exporter": "python",
   "pygments_lexer": "ipython3",
   "version": "3.7.1"
  }
 },
 "nbformat": 4,
 "nbformat_minor": 2
}
