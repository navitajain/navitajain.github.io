{
 "cells": [
  {
   "cell_type": "markdown",
   "metadata": {},
   "source": [
    "## How Data Structure effects run time - "
   ]
  },
  {
   "cell_type": "markdown",
   "metadata": {},
   "source": [
    "#### Coding Problem - Given an array of integers, return indices of the two numbers such that they add up to a specific target. You may assume that each input would have exactly one solution, and you may not use the same element twice."
   ]
  },
  {
   "cell_type": "markdown",
   "metadata": {},
   "source": [
    "##### Solution - Both methods twoSumListDS() and twoSumDictDS() uses same One Pass solution. The results are stored in different DS for both methods. One uses List and the other Dict. But since Indexing on List takes O(n) times whereas Dict is O(1), one performs better than the other"
   ]
  },
  {
   "cell_type": "code",
   "execution_count": 23,
   "metadata": {},
   "outputs": [],
   "source": [
    "class Solution(object):\n",
    "    def __init__(self,nums,target):\n",
    "        \"\"\"\n",
    "        :type nums: List[int]\n",
    "        :type target: int\n",
    "        \"\"\"\n",
    "        self.nums = nums\n",
    "        self.target = target\n",
    "        \n",
    "    # Using Data Structure - List\n",
    "    def twoSumListDS(self):\n",
    "        \"\"\"\n",
    "        :rtype: List[int]\n",
    "        :type arr: List[int]\n",
    "        \"\"\"\n",
    "        #One pass \n",
    "        arr = []\n",
    "        for i in range(len(self.nums)):\n",
    "            if self.nums[i] in arr:\n",
    "                return [arr.index(self.nums[i]),i]\n",
    "            arr.append(self.target - self.nums[i])\n",
    "        return []\n",
    "    \n",
    "    # Using Data Structure - Dictionary\n",
    "    def twoSumDictDS(self):\n",
    "        \"\"\"\n",
    "        :type nums: List[int]\n",
    "        :type target: int\n",
    "        :rtype: List[int]\n",
    "        \"\"\"\n",
    "        arr = {}\n",
    "        for i in range(len(self.nums)):\n",
    "            if self.nums[i] in arr:\n",
    "                return [arr[self.nums[i]],i]\n",
    "            arr[self.target - self.nums[i]] = i\n",
    "        return []"
   ]
  },
  {
   "cell_type": "code",
   "execution_count": 26,
   "metadata": {},
   "outputs": [
    {
     "name": "stdout",
     "output_type": "stream",
     "text": [
      "Result from List-  [6, 12]\n",
      "Result from Dict-  [6, 12]\n"
     ]
    }
   ],
   "source": [
    "import time\n",
    "\n",
    "a = Solution([2,7,5,8,9,11,12,13,28,30,33,36,40],52)\n",
    "start_time_List = time.time()\n",
    "print('Result from List- ',a.twoSumListDS())\n",
    "end_time_List = time.time()\n",
    "\n",
    "start_time_Dict = time.time()\n",
    "print('Result from Dict- ',a.twoSumDictDS())\n",
    "end_time_Dict = time.time()"
   ]
  },
  {
   "cell_type": "code",
   "execution_count": 29,
   "metadata": {},
   "outputs": [
    {
     "name": "stdout",
     "output_type": "stream",
     "text": [
      "Execution time for both methods- \n",
      "List:  0.0003509521484375\n",
      "Dict:  0.00011515617370605469\n"
     ]
    }
   ],
   "source": [
    "print('Execution time for both methods- ')\n",
    "print('List: ',end_time_List - start_time_List)\n",
    "print('Dict: ',end_time_Dict - start_time_Dict)"
   ]
  },
  {
   "cell_type": "code",
   "execution_count": null,
   "metadata": {},
   "outputs": [],
   "source": []
  }
 ],
 "metadata": {
  "kernelspec": {
   "display_name": "Python 3",
   "language": "python",
   "name": "python3"
  },
  "language_info": {
   "codemirror_mode": {
    "name": "ipython",
    "version": 3
   },
   "file_extension": ".py",
   "mimetype": "text/x-python",
   "name": "python",
   "nbconvert_exporter": "python",
   "pygments_lexer": "ipython3",
   "version": "3.7.1"
  }
 },
 "nbformat": 4,
 "nbformat_minor": 2
}
