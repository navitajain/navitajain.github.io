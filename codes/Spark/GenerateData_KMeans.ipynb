{
 "cells": [
  {
   "cell_type": "markdown",
   "metadata": {},
   "source": [
    "##### Generate Data for KMeans"
   ]
  },
  {
   "cell_type": "code",
   "execution_count": 3,
   "metadata": {},
   "outputs": [],
   "source": [
    "import random "
   ]
  },
  {
   "cell_type": "code",
   "execution_count": 177,
   "metadata": {},
   "outputs": [],
   "source": [
    "# open and write to file\n",
    "outfile = open(\"data/kmeans_data.txt\",'a+')"
   ]
  },
  {
   "cell_type": "markdown",
   "metadata": {},
   "source": [
    "###### random.uniform(start,stop) to get a random float number between a float range"
   ]
  },
  {
   "cell_type": "code",
   "execution_count": 178,
   "metadata": {},
   "outputs": [
    {
     "name": "stdout",
     "output_type": "stream",
     "text": [
      "File Done!!\n"
     ]
    }
   ],
   "source": [
    "# generate random numbers and write to file\n",
    "generate_clusters = random.randrange(10)\n",
    "\n",
    "for count in range(generate_clusters):\n",
    "    mu = random.uniform(0.0,10.0)\n",
    "    sigma = random.random()\n",
    "    dt_pts = random.randint(10,20)\n",
    "    for i in range(dt_pts):\n",
    "        # generate points from normal distribution(mu,sigma) and add noise\n",
    "        #noise = random.uniform(0.0,0.1)\n",
    "        val1 = str(round(random.gauss(mu,sigma)+random.uniform(0.0,0.1),1))\n",
    "        val2 = str(round(random.gauss(mu,sigma)+random.uniform(0.0,0.1),1))\n",
    "        val3 = str(round(random.gauss(mu,sigma)+random.uniform(0.0,0.1),1))\n",
    "\n",
    "        outfile.write(val1+' '+val2+' '+val3)\n",
    "        outfile.write('\\n')\n",
    "outfile.close()\n",
    "print(\"File Done!!\")"
   ]
  },
  {
   "cell_type": "code",
   "execution_count": null,
   "metadata": {},
   "outputs": [],
   "source": []
  },
  {
   "cell_type": "code",
   "execution_count": null,
   "metadata": {},
   "outputs": [],
   "source": []
  }
 ],
 "metadata": {
  "kernelspec": {
   "display_name": "Python 3",
   "language": "python",
   "name": "python3"
  },
  "language_info": {
   "codemirror_mode": {
    "name": "ipython",
    "version": 3
   },
   "file_extension": ".py",
   "mimetype": "text/x-python",
   "name": "python",
   "nbconvert_exporter": "python",
   "pygments_lexer": "ipython3",
   "version": "3.7.4"
  }
 },
 "nbformat": 4,
 "nbformat_minor": 2
}
