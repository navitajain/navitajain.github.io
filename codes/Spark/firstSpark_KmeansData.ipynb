{
 "cells": [
  {
   "cell_type": "code",
   "execution_count": 1,
   "metadata": {},
   "outputs": [],
   "source": [
    "import findspark\n",
    "findspark.init()"
   ]
  },
  {
   "cell_type": "code",
   "execution_count": 2,
   "metadata": {},
   "outputs": [],
   "source": [
    "from pyspark import SparkContext\n",
    "from pyspark.sql import SQLContext, Row\n",
    "\n",
    "sc = SparkContext(appName = \"First Spark App\")\n",
    "\n",
    "spark = SQLContext.getOrCreate(sc).sparkSession"
   ]
  },
  {
   "cell_type": "markdown",
   "metadata": {},
   "source": [
    "##### take data and create new rdd object of type - collection of lines OR in our case we created a sql dataframe which is an abstraction of rdd (Wrapping of RDD with a dataframe object)"
   ]
  },
  {
   "cell_type": "code",
   "execution_count": 3,
   "metadata": {},
   "outputs": [],
   "source": [
    "df = spark.read.format(\"csv\")\\\n",
    ".option(\"delimiter\",\" \")\\\n",
    ".load(\"data/kmeans_data.txt\",header=False,inferSchema=True)"
   ]
  },
  {
   "cell_type": "markdown",
   "metadata": {},
   "source": [
    "##### Infer Schema you're are AWESOME!!! (used above) - It correctly identifies the datatype and then cast it too"
   ]
  },
  {
   "cell_type": "code",
   "execution_count": 4,
   "metadata": {},
   "outputs": [
    {
     "name": "stdout",
     "output_type": "stream",
     "text": [
      "Total Rows:96 \n",
      "\n",
      "Schema: \n",
      "root\n",
      " |-- _c0: double (nullable = true)\n",
      " |-- _c1: double (nullable = true)\n",
      " |-- _c2: double (nullable = true)\n",
      "\n",
      "\n",
      "First Few Rows - \n",
      " [Row(_c0=0.1, _c1=0.1, _c2=0.1), Row(_c0=0.2, _c1=0.2, _c2=0.2), Row(_c0=9.0, _c1=9.0, _c2=9.0)]\n"
     ]
    }
   ],
   "source": [
    "#let's count number of rows and view first few lines\n",
    "rowNum = df.count()   \n",
    "print(\"Total Rows:%s \\n\"%(rowNum))\n",
    "\n",
    "print(\"Schema: \")\n",
    "df.printSchema()\n",
    "\n",
    "print(\"\\nFirst Few Rows - \\n\", df.take(3))"
   ]
  },
  {
   "cell_type": "code",
   "execution_count": 5,
   "metadata": {},
   "outputs": [
    {
     "name": "stdout",
     "output_type": "stream",
     "text": [
      "+-------+-----------------+------------------+------------------+\n",
      "|summary|              _c0|               _c1|               _c2|\n",
      "+-------+-----------------+------------------+------------------+\n",
      "|  count|               96|                96|                96|\n",
      "|   mean|5.931249999999998|5.8791666666666655| 5.890624999999999|\n",
      "| stddev|  2.6757905865665|2.7532532591049326|2.7871916869853064|\n",
      "|    min|              0.1|               0.1|               0.1|\n",
      "|    max|              9.9|               9.9|               9.9|\n",
      "+-------+-----------------+------------------+------------------+\n",
      "\n"
     ]
    }
   ],
   "source": [
    "df.describe().show()"
   ]
  },
  {
   "cell_type": "markdown",
   "metadata": {},
   "source": [
    "##### Spark ML requires your input features to be gathered in a SINGLE COLUMN OF DATAFRAME, usually named features; and it provides a specific method for doing this, VectorAssembler. "
   ]
  },
  {
   "cell_type": "code",
   "execution_count": 6,
   "metadata": {},
   "outputs": [
    {
     "name": "stdout",
     "output_type": "stream",
     "text": [
      "+---+---+---+-------------+\n",
      "|_c0|_c1|_c2|     features|\n",
      "+---+---+---+-------------+\n",
      "|0.1|0.1|0.1|[0.1,0.1,0.1]|\n",
      "|0.2|0.2|0.2|[0.2,0.2,0.2]|\n",
      "|9.0|9.0|9.0|[9.0,9.0,9.0]|\n",
      "|9.1|9.1|9.1|[9.1,9.1,9.1]|\n",
      "|9.2|9.2|9.2|[9.2,9.2,9.2]|\n",
      "|7.5|7.8|7.7|[7.5,7.8,7.7]|\n",
      "|8.1|7.7|8.0|[8.1,7.7,8.0]|\n",
      "|8.4|7.4|7.5|[8.4,7.4,7.5]|\n",
      "|7.8|7.4|7.5|[7.8,7.4,7.5]|\n",
      "|8.1|7.8|8.1|[8.1,7.8,8.1]|\n",
      "|7.7|7.1|7.7|[7.7,7.1,7.7]|\n",
      "|7.4|7.4|7.6|[7.4,7.4,7.6]|\n",
      "|8.0|7.8|7.5|[8.0,7.8,7.5]|\n",
      "|7.6|7.6|7.9|[7.6,7.6,7.9]|\n",
      "|7.5|7.7|8.1|[7.5,7.7,8.1]|\n",
      "|7.5|7.3|7.7|[7.5,7.3,7.7]|\n",
      "|2.2|1.7|2.5|[2.2,1.7,2.5]|\n",
      "|2.1|2.0|1.6|[2.1,2.0,1.6]|\n",
      "|1.8|1.8|2.0|[1.8,1.8,2.0]|\n",
      "|1.9|1.7|1.6|[1.9,1.7,1.6]|\n",
      "+---+---+---+-------------+\n",
      "only showing top 20 rows\n",
      "\n"
     ]
    }
   ],
   "source": [
    "from pyspark.ml.feature import VectorAssembler\n",
    "\n",
    "assembler = VectorAssembler(inputCols = [\"_c0\",\"_c1\",\"_c2\"],outputCol = \"features\")  #assembler is the object of VectorAssembler\n",
    "# .transform transforms the dataset into single column named features\n",
    "data = assembler.transform(df)\n",
    "data.show()"
   ]
  },
  {
   "cell_type": "code",
   "execution_count": 7,
   "metadata": {},
   "outputs": [],
   "source": [
    "# create visualization\n",
    "xaxis =  data.rdd.map(lambda x: x[0]).collect()\n",
    "yaxis =  data.rdd.map(lambda x: x[1]).collect()\n",
    "zaxis =  data.rdd.map(lambda x: x[2]).collect()"
   ]
  },
  {
   "cell_type": "code",
   "execution_count": 8,
   "metadata": {},
   "outputs": [],
   "source": [
    "%matplotlib inline"
   ]
  },
  {
   "cell_type": "code",
   "execution_count": 9,
   "metadata": {
    "scrolled": true
   },
   "outputs": [
    {
     "data": {
      "image/png": "[encoded data removed]",
      "text/plain": [
       "<Figure size 432x288 with 1 Axes>"
      ]
     },
     "metadata": {
      "needs_background": "light"
     },
     "output_type": "display_data"
    }
   ],
   "source": [
    "import matplotlib.pyplot as plt\n",
    "fig = plt.figure()\n",
    "ax = fig.add_subplot(111)\n",
    "ax.scatter(xaxis,yaxis,zaxis,c='r',marker='o')\n",
    "plt.show()"
   ]
  },
  {
   "cell_type": "markdown",
   "metadata": {},
   "source": [
    "### ELBOW method. Find Optimal Number of clusters"
   ]
  },
  {
   "cell_type": "code",
   "execution_count": 11,
   "metadata": {},
   "outputs": [
    {
     "data": {
      "image/png": "[encoded data removed]",
      "text/plain": [
       "<Figure size 432x288 with 1 Axes>"
      ]
     },
     "metadata": {
      "needs_background": "light"
     },
     "output_type": "display_data"
    }
   ],
   "source": [
    "from pyspark.ml.clustering import KMeans\n",
    "\n",
    "import numpy as np\n",
    "cost = np.zeros(15)\n",
    "for k in range(3,15):\n",
    "    kmeans = KMeans().setK(k).setSeed(1)\\\n",
    "    .setFeaturesCol(\"features\")\\\n",
    "    .setPredictionCol(\"cluster\")\n",
    "    \n",
    "    model = kmeans.fit(data)\n",
    "    cost[k] = model.computeCost(data)\n",
    "cost\n",
    "\n",
    "plt.title('Elbow Method: Optimal k')\n",
    "plt.plot(range(3,15),cost[3:15])\n",
    "plt.xlabel(\"k\")\n",
    "plt.ylabel(\"cost\")\n",
    "plt.show()"
   ]
  },
  {
   "cell_type": "markdown",
   "metadata": {},
   "source": [
    "##### Optimal K = 8"
   ]
  },
  {
   "cell_type": "code",
   "execution_count": 12,
   "metadata": {},
   "outputs": [],
   "source": [
    "k = 8\n",
    "# apply K-means. \n",
    "kmeans = KMeans().setK(3).setSeed(1)\\\n",
    ".setFeaturesCol(\"features\")\\\n",
    ".setPredictionCol(\"cluster\")\n",
    "\n",
    "model = kmeans.fit(data)\n",
    "cluster = model.transform(data)"
   ]
  },
  {
   "cell_type": "code",
   "execution_count": 13,
   "metadata": {},
   "outputs": [
    {
     "name": "stdout",
     "output_type": "stream",
     "text": [
      "feature=[0.1,0.1,0.1], cluster=2\n",
      "feature=[0.2,0.2,0.2], cluster=2\n",
      "feature=[9.0,9.0,9.0], cluster=1\n",
      "feature=[9.1,9.1,9.1], cluster=1\n",
      "feature=[9.2,9.2,9.2], cluster=1\n",
      "feature=[7.5,7.8,7.7], cluster=1\n",
      "feature=[8.1,7.7,8.0], cluster=1\n",
      "feature=[8.4,7.4,7.5], cluster=1\n",
      "feature=[7.8,7.4,7.5], cluster=1\n",
      "feature=[8.1,7.8,8.1], cluster=1\n",
      "feature=[7.7,7.1,7.7], cluster=1\n",
      "feature=[7.4,7.4,7.6], cluster=1\n",
      "feature=[8.0,7.8,7.5], cluster=1\n",
      "feature=[7.6,7.6,7.9], cluster=1\n",
      "feature=[7.5,7.7,8.1], cluster=1\n",
      "feature=[7.5,7.3,7.7], cluster=1\n",
      "feature=[2.2,1.7,2.5], cluster=2\n",
      "feature=[2.1,2.0,1.6], cluster=2\n",
      "feature=[1.8,1.8,2.0], cluster=2\n",
      "feature=[1.9,1.7,1.6], cluster=2\n",
      "feature=[2.3,1.8,1.6], cluster=2\n",
      "feature=[2.4,1.0,2.2], cluster=2\n",
      "feature=[2.4,1.9,1.9], cluster=2\n",
      "feature=[2.1,2.0,1.9], cluster=2\n",
      "feature=[1.8,2.5,1.6], cluster=2\n",
      "feature=[2.2,1.6,1.5], cluster=2\n",
      "feature=[2.0,1.7,2.0], cluster=2\n",
      "feature=[1.7,2.1,1.8], cluster=2\n",
      "feature=[1.4,1.8,1.5], cluster=2\n",
      "feature=[2.6,2.2,1.6], cluster=2\n",
      "feature=[1.9,1.4,1.0], cluster=2\n",
      "feature=[1.8,1.5,2.0], cluster=2\n",
      "feature=[2.5,2.2,1.7], cluster=2\n",
      "feature=[2.6,2.3,1.6], cluster=2\n",
      "feature=[6.6,6.6,6.4], cluster=0\n",
      "feature=[5.7,7.0,6.2], cluster=0\n",
      "feature=[5.2,6.2,6.2], cluster=0\n",
      "feature=[5.8,7.1,7.2], cluster=0\n",
      "feature=[7.1,6.2,7.2], cluster=0\n",
      "feature=[7.8,5.9,6.9], cluster=0\n",
      "feature=[6.7,6.7,6.5], cluster=0\n",
      "feature=[6.7,5.7,6.6], cluster=0\n",
      "feature=[6.9,6.4,6.6], cluster=0\n",
      "feature=[6.2,7.8,6.0], cluster=0\n",
      "feature=[6.3,8.1,6.7], cluster=0\n",
      "feature=[6.3,5.9,6.2], cluster=0\n",
      "feature=[6.9,6.2,7.7], cluster=0\n",
      "feature=[8.5,7.5,6.9], cluster=1\n",
      "feature=[6.4,6.9,7.3], cluster=0\n",
      "feature=[5.5,7.7,7.2], cluster=0\n",
      "feature=[6.4,7.7,7.3], cluster=0\n",
      "feature=[7.1,6.5,7.3], cluster=0\n",
      "feature=[9.6,9.8,9.7], cluster=1\n",
      "feature=[9.7,9.9,9.8], cluster=1\n",
      "feature=[9.6,9.6,9.7], cluster=1\n",
      "feature=[9.5,9.9,9.6], cluster=1\n",
      "feature=[9.7,9.7,9.8], cluster=1\n",
      "feature=[9.7,9.8,9.8], cluster=1\n",
      "feature=[9.7,9.7,9.9], cluster=1\n",
      "feature=[9.9,9.7,9.6], cluster=1\n",
      "feature=[9.7,9.9,9.8], cluster=1\n",
      "feature=[9.7,9.6,9.9], cluster=1\n",
      "feature=[9.8,9.7,9.5], cluster=1\n",
      "feature=[9.5,9.6,9.8], cluster=1\n",
      "feature=[9.7,9.9,9.7], cluster=1\n",
      "feature=[9.6,9.6,9.8], cluster=1\n",
      "feature=[9.8,9.7,9.8], cluster=1\n",
      "feature=[9.5,9.7,9.7], cluster=1\n",
      "feature=[4.6,4.5,4.4], cluster=0\n",
      "feature=[4.5,4.4,4.4], cluster=0\n",
      "feature=[4.5,4.4,4.3], cluster=0\n",
      "feature=[4.4,4.7,4.6], cluster=0\n",
      "feature=[4.4,4.2,4.4], cluster=0\n",
      "feature=[4.5,4.5,4.3], cluster=0\n",
      "feature=[4.4,4.7,4.5], cluster=0\n",
      "feature=[4.4,4.2,4.2], cluster=0\n",
      "feature=[4.2,4.5,4.5], cluster=0\n",
      "feature=[4.4,4.2,4.6], cluster=0\n",
      "feature=[4.4,4.6,4.4], cluster=0\n",
      "feature=[4.7,4.6,4.2], cluster=0\n",
      "feature=[4.8,4.5,4.6], cluster=0\n",
      "feature=[4.5,4.5,4.6], cluster=0\n",
      "feature=[4.5,4.3,4.4], cluster=0\n",
      "feature=[4.5,4.4,4.4], cluster=0\n",
      "feature=[5.9,6.1,6.2], cluster=0\n",
      "feature=[5.8,5.8,6.2], cluster=0\n",
      "feature=[6.2,5.3,5.4], cluster=0\n",
      "feature=[5.8,6.0,6.2], cluster=0\n",
      "feature=[6.8,6.4,5.7], cluster=0\n",
      "feature=[6.6,5.9,5.4], cluster=0\n",
      "feature=[6.4,5.7,5.9], cluster=0\n",
      "feature=[6.6,6.5,6.0], cluster=0\n",
      "feature=[6.2,6.0,6.4], cluster=0\n",
      "feature=[5.9,6.2,6.4], cluster=0\n",
      "feature=[5.9,6.3,6.2], cluster=0\n",
      "feature=[5.9,5.3,5.9], cluster=0\n"
     ]
    }
   ],
   "source": [
    "# Show result\n",
    "result = cluster.select(\"features\",\"cluster\").collect()\n",
    "for row in result:\n",
    "    print(\"feature=%s, cluster=%s\"\n",
    "          %(row.features,row.cluster))"
   ]
  },
  {
   "cell_type": "code",
   "execution_count": 14,
   "metadata": {},
   "outputs": [],
   "source": [
    "sc.stop()"
   ]
  },
  {
   "cell_type": "code",
   "execution_count": null,
   "metadata": {},
   "outputs": [],
   "source": []
  }
 ],
 "metadata": {
  "kernelspec": {
   "display_name": "Python 3",
   "language": "python",
   "name": "python3"
  },
  "language_info": {
   "codemirror_mode": {
    "name": "ipython",
    "version": 3
   },
   "file_extension": ".py",
   "mimetype": "text/x-python",
   "name": "python",
   "nbconvert_exporter": "python",
   "pygments_lexer": "ipython3",
   "version": "3.7.4"
  }
 },
 "nbformat": 4,
 "nbformat_minor": 2
}
